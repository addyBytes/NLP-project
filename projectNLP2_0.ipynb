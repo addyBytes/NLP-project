{
  "nbformat": 4,
  "nbformat_minor": 0,
  "metadata": {
    "colab": {
      "provenance": [],
      "authorship_tag": "ABX9TyMzgAR0vTo9kX31AUX0ZQxq",
      "include_colab_link": true
    },
    "kernelspec": {
      "name": "python3",
      "display_name": "Python 3"
    },
    "language_info": {
      "name": "python"
    }
  },
  "cells": [
    {
      "cell_type": "markdown",
      "metadata": {
        "id": "view-in-github",
        "colab_type": "text"
      },
      "source": [
        "<a href=\"https://colab.research.google.com/github/addyBytes/NLP-project/blob/main/projectNLP2_0.ipynb\" target=\"_parent\"><img src=\"https://colab.research.google.com/assets/colab-badge.svg\" alt=\"Open In Colab\"/></a>"
      ]
    },
    {
      "cell_type": "code",
      "execution_count": null,
      "metadata": {
        "colab": {
          "base_uri": "https://localhost:8080/"
        },
        "id": "LzIPW3BiwzUk",
        "outputId": "c168b6f3-38c1-4ae8-baf2-f69550d6fd1b"
      },
      "outputs": [
        {
          "name": "stdout",
          "output_type": "stream",
          "text": [
            "\n",
            "Enter a word (or type 'exit' to stop): भाष\n",
            "❌ 'भाष' is incorrect. Did you mean: भाषा?\n",
            "\n",
            "Enter a word (or type 'exit' to stop): खु भाष\n",
            "❌ 'खु भाष' is incorrect. Did you mean: भाषा?\n",
            "\n",
            "Enter a word (or type 'exit' to stop): भाषा\n",
            "✅ 'भाषा' is spelled correctly!\n",
            "\n",
            "Enter a word (or type 'exit' to stop): exit\n"
          ]
        }
      ],
      "source": [
        "# import re\n",
        "# import string\n",
        "# import difflib\n",
        "\n",
        "# # Sample dictionary (Add more words in your regional language)\n",
        "# dictionary = [\"खुश\", \"मौसम\", \"अच्छा\", \"खराब\", \"पढ़ाई\", \"बच्चा\", \"सुंदर\", \"किताब\", \"खेल\",\"भाषा\"]\n",
        "\n",
        "# # Function to preprocess input text\n",
        "# def preprocess_text(text):\n",
        "#     text = text.lower()  # Convert to lowercase\n",
        "#     text = re.sub(f\"[{string.punctuation}]\", \"\", text)  # Remove punctuation\n",
        "#     return text\n",
        "\n",
        "# # Function to suggest corrections for a misspelled word\n",
        "# def spell_checker(word):\n",
        "#     word = preprocess_text(word)\n",
        "#     if word in dictionary:\n",
        "#         return f\"✅ '{word}' is spelled correctly!\"\n",
        "\n",
        "#     # Find closest match\n",
        "#     suggestions = difflib.get_close_matches(word, dictionary, n=3, cutoff=0.6)\n",
        "\n",
        "#     if suggestions:\n",
        "#         return f\"❌ '{word}' is incorrect. Did you mean: {', '.join(suggestions)}?\"\n",
        "#     else:\n",
        "#         return f\"❌ '{word}' is incorrect. No suggestions found.\"\n",
        "\n",
        "# # Take user input\n",
        "# while True:\n",
        "#     user_input = input(\"\\nEnter a word (or type 'exit' to stop): \").strip()\n",
        "#     if user_input.lower() == \"exit\":\n",
        "#         break\n",
        "#     print(spell_checker(user_input))\n"
      ]
    },
    {
      "cell_type": "code",
      "source": [
        "#for words\n",
        "\n",
        "!apt-get install -y libenchant-2-dev\n",
        "import enchant\n",
        "\n",
        "\n",
        "hindi_dict = enchant.Dict(\"hi\")\n",
        "\n",
        "def check_spelling(word):\n",
        "    if hindi_dict.check(word):\n",
        "        return f\"✅ '{word}' is spelled correctly!\"\n",
        "    else:\n",
        "        suggestions = hindi_dict.suggest(word)\n",
        "        if suggestions:\n",
        "            return f\"❌ '{word}' is incorrect. Did you mean: {', '.join(suggestions)}?\"\n",
        "        else:\n",
        "            return f\"❌ '{word}' is incorrect. No suggestions found.\"\n",
        "\n",
        "word = input(\"Enter a word in Hindi: \")\n",
        "print(check_spelling(word))"
      ],
      "metadata": {
        "colab": {
          "base_uri": "https://localhost:8080/"
        },
        "id": "5kfcPZLOyUrK",
        "outputId": "f28d6a72-c7f3-46b3-c63c-ef305661e347"
      },
      "execution_count": null,
      "outputs": [
        {
          "output_type": "stream",
          "name": "stdout",
          "text": [
            "Reading package lists... Done\n",
            "Building dependency tree... Done\n",
            "Reading state information... Done\n",
            "libenchant-2-dev is already the newest version (2.3.2-1ubuntu2).\n",
            "0 upgraded, 0 newly installed, 0 to remove and 20 not upgraded.\n",
            "Enter a word in Hindi: भाष\n",
            "❌ 'भाष' is incorrect. Did you mean: भाषा, भाषण, भाषी, भा, भास, भान, भेष, काष, चाष, भाई, भाउ, भाऊ, भाग, भाट, भाठ, भाण, भात, भाप, भाम, भाय, भार, भाल, भाव, भाड़, माष, भाषाः, भसान, भाशा, भासन, बास, भूषा, भसाना, भगा, भरा, भला, भाषाई, भाष्य, ष, ईषा, उषा, ऊषा, भाना, भासक, भड़ास, सभा, बसा, भासना, शा, सा, आभास, उभास?\n"
          ]
        }
      ]
    },
    {
      "cell_type": "code",
      "source": [
        "!apt-get install -y libenchant-2-dev\n",
        "import enchant\n",
        "import re\n",
        "from difflib import get_close_matches\n",
        "\n",
        "hindi_dict = enchant.Dict(\"hi\")\n",
        "\n",
        "\n",
        "def check_sentence_spelling(sentence):\n",
        "    words = re.findall(r'\\b\\w+\\b', sentence)\n",
        "    corrected_words = []\n",
        "\n",
        "    for word in words:\n",
        "        if hindi_dict.check(word):\n",
        "            corrected_words.append(word)\n",
        "        else:\n",
        "            suggestions = hindi_dict.suggest(word)\n",
        "            if suggestions:\n",
        "\n",
        "                best_match = get_close_matches(word, suggestions, n=1)\n",
        "                corrected_words.append(best_match[0] if best_match else word)\n",
        "            else:\n",
        "                corrected_words.append(word)\n",
        "    return \" \".join(corrected_words)\n",
        "\n",
        "\n",
        "sentence = input(\"Enter a sentence in Hindi: \")\n",
        "print(\"Corrected sentence:\", check_sentence_spelling(sentence))\n"
      ],
      "metadata": {
        "colab": {
          "base_uri": "https://localhost:8080/"
        },
        "id": "O8tmd7SR0K6w",
        "outputId": "e9514453-644f-414d-831c-f40392307b7e"
      },
      "execution_count": null,
      "outputs": [
        {
          "output_type": "stream",
          "name": "stdout",
          "text": [
            "Reading package lists... Done\n",
            "Building dependency tree... Done\n",
            "Reading state information... Done\n",
            "libenchant-2-dev is already the newest version (2.3.2-1ubuntu2).\n",
            "0 upgraded, 0 newly installed, 0 to remove and 20 not upgraded.\n",
            "Enter a sentence in Hindi: मैं अच्छी तह से हिंदी नही बोता\n",
            "Corrected sentence: म अपच छ तह स ह द नह ब त\n"
          ]
        }
      ]
    },
    {
      "cell_type": "code",
      "source": [
        "!apt-get install -y libenchant-2-dev"
      ],
      "metadata": {
        "colab": {
          "base_uri": "https://localhost:8080/"
        },
        "id": "VQqMJU0OzUK8",
        "outputId": "810bb3d3-cab1-4f77-f9fa-6d01b46decb3"
      },
      "execution_count": null,
      "outputs": [
        {
          "output_type": "stream",
          "name": "stdout",
          "text": [
            "Reading package lists... Done\n",
            "Building dependency tree... Done\n",
            "Reading state information... Done\n",
            "The following additional packages will be installed:\n",
            "  enchant-2 libblkid-dev libenchant-2-2 libffi-dev libglib2.0-dev libglib2.0-dev-bin libmount-dev\n",
            "  libselinux1-dev libsepol-dev\n",
            "Suggested packages:\n",
            "  libenchant-2-voikko libgirepository1.0-dev libglib2.0-doc libgdk-pixbuf2.0-bin\n",
            "  | libgdk-pixbuf2.0-dev libxml2-utils\n",
            "The following NEW packages will be installed:\n",
            "  enchant-2 libblkid-dev libenchant-2-2 libenchant-2-dev libffi-dev libglib2.0-dev\n",
            "  libglib2.0-dev-bin libmount-dev libselinux1-dev libsepol-dev\n",
            "0 upgraded, 10 newly installed, 0 to remove and 20 not upgraded.\n",
            "Need to get 2,738 kB of archives.\n",
            "After this operation, 15.4 MB of additional disk space will be used.\n",
            "Get:1 http://archive.ubuntu.com/ubuntu jammy/main amd64 libenchant-2-2 amd64 2.3.2-1ubuntu2 [50.9 kB]\n",
            "Get:2 http://archive.ubuntu.com/ubuntu jammy/main amd64 enchant-2 amd64 2.3.2-1ubuntu2 [13.0 kB]\n",
            "Get:3 http://archive.ubuntu.com/ubuntu jammy/main amd64 libffi-dev amd64 3.4.2-4 [63.7 kB]\n",
            "Get:4 http://archive.ubuntu.com/ubuntu jammy-updates/main amd64 libglib2.0-dev-bin amd64 2.72.4-0ubuntu2.4 [117 kB]\n",
            "Get:5 http://archive.ubuntu.com/ubuntu jammy-updates/main amd64 libblkid-dev amd64 2.37.2-4ubuntu3.4 [185 kB]\n",
            "Get:6 http://archive.ubuntu.com/ubuntu jammy/main amd64 libsepol-dev amd64 3.3-1build1 [378 kB]\n",
            "Get:7 http://archive.ubuntu.com/ubuntu jammy/main amd64 libselinux1-dev amd64 3.3-1build2 [158 kB]\n",
            "Get:8 http://archive.ubuntu.com/ubuntu jammy-updates/main amd64 libmount-dev amd64 2.37.2-4ubuntu3.4 [14.5 kB]\n",
            "Get:9 http://archive.ubuntu.com/ubuntu jammy-updates/main amd64 libglib2.0-dev amd64 2.72.4-0ubuntu2.4 [1,743 kB]\n",
            "Get:10 http://archive.ubuntu.com/ubuntu jammy/main amd64 libenchant-2-dev amd64 2.3.2-1ubuntu2 [15.3 kB]\n",
            "Fetched 2,738 kB in 1s (2,859 kB/s)\n",
            "Selecting previously unselected package libenchant-2-2:amd64.\n",
            "(Reading database ... 125311 files and directories currently installed.)\n",
            "Preparing to unpack .../0-libenchant-2-2_2.3.2-1ubuntu2_amd64.deb ...\n",
            "Unpacking libenchant-2-2:amd64 (2.3.2-1ubuntu2) ...\n",
            "Selecting previously unselected package enchant-2.\n",
            "Preparing to unpack .../1-enchant-2_2.3.2-1ubuntu2_amd64.deb ...\n",
            "Unpacking enchant-2 (2.3.2-1ubuntu2) ...\n",
            "Selecting previously unselected package libffi-dev:amd64.\n",
            "Preparing to unpack .../2-libffi-dev_3.4.2-4_amd64.deb ...\n",
            "Unpacking libffi-dev:amd64 (3.4.2-4) ...\n",
            "Selecting previously unselected package libglib2.0-dev-bin.\n",
            "Preparing to unpack .../3-libglib2.0-dev-bin_2.72.4-0ubuntu2.4_amd64.deb ...\n",
            "Unpacking libglib2.0-dev-bin (2.72.4-0ubuntu2.4) ...\n",
            "Selecting previously unselected package libblkid-dev:amd64.\n",
            "Preparing to unpack .../4-libblkid-dev_2.37.2-4ubuntu3.4_amd64.deb ...\n",
            "Unpacking libblkid-dev:amd64 (2.37.2-4ubuntu3.4) ...\n",
            "Selecting previously unselected package libsepol-dev:amd64.\n",
            "Preparing to unpack .../5-libsepol-dev_3.3-1build1_amd64.deb ...\n",
            "Unpacking libsepol-dev:amd64 (3.3-1build1) ...\n",
            "Selecting previously unselected package libselinux1-dev:amd64.\n",
            "Preparing to unpack .../6-libselinux1-dev_3.3-1build2_amd64.deb ...\n",
            "Unpacking libselinux1-dev:amd64 (3.3-1build2) ...\n",
            "Selecting previously unselected package libmount-dev:amd64.\n",
            "Preparing to unpack .../7-libmount-dev_2.37.2-4ubuntu3.4_amd64.deb ...\n",
            "Unpacking libmount-dev:amd64 (2.37.2-4ubuntu3.4) ...\n",
            "Selecting previously unselected package libglib2.0-dev:amd64.\n",
            "Preparing to unpack .../8-libglib2.0-dev_2.72.4-0ubuntu2.4_amd64.deb ...\n",
            "Unpacking libglib2.0-dev:amd64 (2.72.4-0ubuntu2.4) ...\n",
            "Selecting previously unselected package libenchant-2-dev:amd64.\n",
            "Preparing to unpack .../9-libenchant-2-dev_2.3.2-1ubuntu2_amd64.deb ...\n",
            "Unpacking libenchant-2-dev:amd64 (2.3.2-1ubuntu2) ...\n",
            "Setting up libglib2.0-dev-bin (2.72.4-0ubuntu2.4) ...\n",
            "Setting up libblkid-dev:amd64 (2.37.2-4ubuntu3.4) ...\n",
            "Setting up libenchant-2-2:amd64 (2.3.2-1ubuntu2) ...\n",
            "Setting up enchant-2 (2.3.2-1ubuntu2) ...\n",
            "Setting up libffi-dev:amd64 (3.4.2-4) ...\n",
            "Setting up libsepol-dev:amd64 (3.3-1build1) ...\n",
            "Setting up libselinux1-dev:amd64 (3.3-1build2) ...\n",
            "Setting up libmount-dev:amd64 (2.37.2-4ubuntu3.4) ...\n",
            "Setting up libglib2.0-dev:amd64 (2.72.4-0ubuntu2.4) ...\n",
            "Processing triggers for libc-bin (2.35-0ubuntu3.8) ...\n",
            "/sbin/ldconfig.real: /usr/local/lib/libtbbmalloc.so.2 is not a symbolic link\n",
            "\n",
            "/sbin/ldconfig.real: /usr/local/lib/libtbb.so.12 is not a symbolic link\n",
            "\n",
            "/sbin/ldconfig.real: /usr/local/lib/libtbbbind_2_5.so.3 is not a symbolic link\n",
            "\n",
            "/sbin/ldconfig.real: /usr/local/lib/libtbbbind.so.3 is not a symbolic link\n",
            "\n",
            "/sbin/ldconfig.real: /usr/local/lib/libur_adapter_level_zero.so.0 is not a symbolic link\n",
            "\n",
            "/sbin/ldconfig.real: /usr/local/lib/libtcm.so.1 is not a symbolic link\n",
            "\n",
            "/sbin/ldconfig.real: /usr/local/lib/libtbbmalloc_proxy.so.2 is not a symbolic link\n",
            "\n",
            "/sbin/ldconfig.real: /usr/local/lib/libhwloc.so.15 is not a symbolic link\n",
            "\n",
            "/sbin/ldconfig.real: /usr/local/lib/libur_loader.so.0 is not a symbolic link\n",
            "\n",
            "/sbin/ldconfig.real: /usr/local/lib/libtcm_debug.so.1 is not a symbolic link\n",
            "\n",
            "/sbin/ldconfig.real: /usr/local/lib/libur_adapter_opencl.so.0 is not a symbolic link\n",
            "\n",
            "/sbin/ldconfig.real: /usr/local/lib/libtbbbind_2_0.so.3 is not a symbolic link\n",
            "\n",
            "/sbin/ldconfig.real: /usr/local/lib/libumf.so.0 is not a symbolic link\n",
            "\n",
            "Processing triggers for man-db (2.10.2-1) ...\n",
            "Processing triggers for libglib2.0-0:amd64 (2.72.4-0ubuntu2.4) ...\n",
            "Setting up libenchant-2-dev:amd64 (2.3.2-1ubuntu2) ...\n"
          ]
        }
      ]
    },
    {
      "cell_type": "code",
      "source": [
        "!apt-get install -y aspell aspell-hi\n",
        "!pip install pyenchant\n",
        "\n"
      ],
      "metadata": {
        "colab": {
          "base_uri": "https://localhost:8080/"
        },
        "id": "wo6PH2Ukyok3",
        "outputId": "72e3b55c-8827-42e7-fe07-da681e3d1f31"
      },
      "execution_count": null,
      "outputs": [
        {
          "output_type": "stream",
          "name": "stdout",
          "text": [
            "Reading package lists... Done\n",
            "Building dependency tree... Done\n",
            "Reading state information... Done\n",
            "aspell is already the newest version (0.60.8-4build1).\n",
            "aspell-hi is already the newest version (0.02-9).\n",
            "0 upgraded, 0 newly installed, 0 to remove and 20 not upgraded.\n",
            "Collecting pyenchant\n",
            "  Downloading pyenchant-3.2.2-py3-none-any.whl.metadata (3.8 kB)\n",
            "Downloading pyenchant-3.2.2-py3-none-any.whl (55 kB)\n",
            "\u001b[2K   \u001b[90m━━━━━━━━━━━━━━━━━━━━━━━━━━━━━━━━━━━━━━━━\u001b[0m \u001b[32m55.7/55.7 kB\u001b[0m \u001b[31m3.1 MB/s\u001b[0m eta \u001b[36m0:00:00\u001b[0m\n",
            "\u001b[?25hInstalling collected packages: pyenchant\n",
            "Successfully installed pyenchant-3.2.2\n"
          ]
        }
      ]
    }
  ]
}